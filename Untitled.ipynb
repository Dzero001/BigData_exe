{
 "cells": [
  {
   "cell_type": "code",
   "execution_count": 1,
   "id": "594abf61-90cc-4594-b4d7-b46f8e2b60d4",
   "metadata": {},
   "outputs": [],
   "source": [
    "import pandas as pd"
   ]
  },
  {
   "cell_type": "code",
   "execution_count": null,
   "id": "7c49d248-c436-4bb2-9ee3-2071d3622081",
   "metadata": {},
   "outputs": [],
   "source": [
    "list=[['K','10','40','12','34'],\n",
    "      ['R','56','43','22','45'],\n",
    "      ['Y','45','54','45','34'],\n",
    "      ['T','54','34','23','54'],\n",
    "      ['E','35','76','43','28']]"
   ]
  }
 ],
 "metadata": {
  "kernelspec": {
   "display_name": "Python 3 (ipykernel)",
   "language": "python",
   "name": "python3"
  },
  "language_info": {
   "codemirror_mode": {
    "name": "ipython",
    "version": 3
   },
   "file_extension": ".py",
   "mimetype": "text/x-python",
   "name": "python",
   "nbconvert_exporter": "python",
   "pygments_lexer": "ipython3",
   "version": "3.12.5"
  }
 },
 "nbformat": 4,
 "nbformat_minor": 5
}
