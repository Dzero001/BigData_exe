{
 "cells": [
  {
   "cell_type": "code",
   "execution_count": 8,
   "id": "b4405099-b9f3-4d5c-93e6-838de9b1b562",
   "metadata": {},
   "outputs": [
    {
     "name": "stderr",
     "output_type": "stream",
     "text": [
      "C:\\Users\\6708142\\AppData\\Local\\Temp\\ipykernel_7028\\67326143.py:4: DtypeWarning: Columns (1,4,5) have mixed types. Specify dtype option on import or set low_memory=False.\n",
      "  df=pd.read_csv('chronic_2016_90_all.csv')\n"
     ]
    }
   ],
   "source": [
    "import pandas as pd\n",
    "# import matplotlib.pyplot as plt\n",
    "\n",
    "df=pd.read_csv('chronic_2016_90_all.csv')\n",
    "# df[df['CHRONIC']].str.contains('^I3.*')"
   ]
  },
  {
   "cell_type": "code",
   "execution_count": 9,
   "id": "87d8493d-d3d9-4776-ae35-648dcf0fd270",
   "metadata": {},
   "outputs": [
    {
     "data": {
      "text/html": [
       "<div>\n",
       "<style scoped>\n",
       "    .dataframe tbody tr th:only-of-type {\n",
       "        vertical-align: middle;\n",
       "    }\n",
       "\n",
       "    .dataframe tbody tr th {\n",
       "        vertical-align: top;\n",
       "    }\n",
       "\n",
       "    .dataframe thead th {\n",
       "        text-align: right;\n",
       "    }\n",
       "</style>\n",
       "<table border=\"1\" class=\"dataframe\">\n",
       "  <thead>\n",
       "    <tr style=\"text-align: right;\">\n",
       "      <th></th>\n",
       "      <th>HOSPCODE</th>\n",
       "      <th>PID</th>\n",
       "      <th>DATE_DIAG</th>\n",
       "      <th>CHRONIC</th>\n",
       "      <th>HOSP_DX</th>\n",
       "      <th>HOSP_RX</th>\n",
       "      <th>DATE_DISCH</th>\n",
       "      <th>TYPEDISCH</th>\n",
       "      <th>D_UPDATE</th>\n",
       "    </tr>\n",
       "  </thead>\n",
       "  <tbody>\n",
       "    <tr>\n",
       "      <th>108038</th>\n",
       "      <td>9569</td>\n",
       "      <td>6488</td>\n",
       "      <td>2011-12-23</td>\n",
       "      <td>I340</td>\n",
       "      <td>NaN</td>\n",
       "      <td>NaN</td>\n",
       "      <td>0000-00-00</td>\n",
       "      <td>3</td>\n",
       "      <td>2016-12-08 14:36:10</td>\n",
       "    </tr>\n",
       "    <tr>\n",
       "      <th>602278</th>\n",
       "      <td>23867</td>\n",
       "      <td>17390</td>\n",
       "      <td>2008-03-01</td>\n",
       "      <td>I37</td>\n",
       "      <td>NaN</td>\n",
       "      <td>10682</td>\n",
       "      <td>0000-00-00</td>\n",
       "      <td>3</td>\n",
       "      <td>2009-12-30 14:49:21</td>\n",
       "    </tr>\n",
       "  </tbody>\n",
       "</table>\n",
       "</div>"
      ],
      "text/plain": [
       "        HOSPCODE    PID   DATE_DIAG CHRONIC HOSP_DX HOSP_RX  DATE_DISCH  \\\n",
       "108038      9569   6488  2011-12-23    I340     NaN     NaN  0000-00-00   \n",
       "602278     23867  17390  2008-03-01     I37     NaN   10682  0000-00-00   \n",
       "\n",
       "        TYPEDISCH             D_UPDATE  \n",
       "108038          3  2016-12-08 14:36:10  \n",
       "602278          3  2009-12-30 14:49:21  "
      ]
     },
     "execution_count": 9,
     "metadata": {},
     "output_type": "execute_result"
    }
   ],
   "source": [
    "df[df['CHRONIC'].str.contains('^I3.*')]"
   ]
  },
  {
   "cell_type": "code",
   "execution_count": 12,
   "id": "c245f859-7e34-4adc-b0e4-1e6b13789c95",
   "metadata": {},
   "outputs": [
    {
     "name": "stderr",
     "output_type": "stream",
     "text": [
      "C:\\Users\\6708142\\AppData\\Local\\Temp\\ipykernel_7028\\3355066230.py:1: DtypeWarning: Columns (1,4,5) have mixed types. Specify dtype option on import or set low_memory=False.\n",
      "  df=pd.read_csv('chronic_2016_90_all.csv')\n"
     ]
    },
    {
     "data": {
      "text/html": [
       "<div>\n",
       "<style scoped>\n",
       "    .dataframe tbody tr th:only-of-type {\n",
       "        vertical-align: middle;\n",
       "    }\n",
       "\n",
       "    .dataframe tbody tr th {\n",
       "        vertical-align: top;\n",
       "    }\n",
       "\n",
       "    .dataframe thead th {\n",
       "        text-align: right;\n",
       "    }\n",
       "</style>\n",
       "<table border=\"1\" class=\"dataframe\">\n",
       "  <thead>\n",
       "    <tr style=\"text-align: right;\">\n",
       "      <th></th>\n",
       "      <th>HOSPCODE</th>\n",
       "      <th>PID</th>\n",
       "      <th>DATE_DIAG</th>\n",
       "      <th>CHRONIC</th>\n",
       "      <th>HOSP_DX</th>\n",
       "      <th>HOSP_RX</th>\n",
       "      <th>DATE_DISCH</th>\n",
       "      <th>TYPEDISCH</th>\n",
       "      <th>D_UPDATE</th>\n",
       "    </tr>\n",
       "  </thead>\n",
       "  <tbody>\n",
       "    <tr>\n",
       "      <th>0</th>\n",
       "      <td>9435</td>\n",
       "      <td>10002</td>\n",
       "      <td>2016-01-21</td>\n",
       "      <td>I10</td>\n",
       "      <td>10745.0</td>\n",
       "      <td>10745.0</td>\n",
       "      <td>0000-00-00</td>\n",
       "      <td>3</td>\n",
       "      <td>2016-06-21 13:34:24</td>\n",
       "    </tr>\n",
       "    <tr>\n",
       "      <th>3</th>\n",
       "      <td>9435</td>\n",
       "      <td>10031</td>\n",
       "      <td>2016-03-31</td>\n",
       "      <td>E119</td>\n",
       "      <td>856.0</td>\n",
       "      <td>9435.0</td>\n",
       "      <td>0000-00-00</td>\n",
       "      <td>3</td>\n",
       "      <td>2016-10-19 09:38:14</td>\n",
       "    </tr>\n",
       "    <tr>\n",
       "      <th>4</th>\n",
       "      <td>9435</td>\n",
       "      <td>10036</td>\n",
       "      <td>2009-03-10</td>\n",
       "      <td>E119</td>\n",
       "      <td>10745.0</td>\n",
       "      <td>9435.0</td>\n",
       "      <td>0000-00-00</td>\n",
       "      <td>3</td>\n",
       "      <td>2016-09-06 10:11:39</td>\n",
       "    </tr>\n",
       "    <tr>\n",
       "      <th>5</th>\n",
       "      <td>9435</td>\n",
       "      <td>10036</td>\n",
       "      <td>2009-03-10</td>\n",
       "      <td>I10</td>\n",
       "      <td>10745.0</td>\n",
       "      <td>9435.0</td>\n",
       "      <td>0000-00-00</td>\n",
       "      <td>3</td>\n",
       "      <td>2016-09-06 10:11:41</td>\n",
       "    </tr>\n",
       "    <tr>\n",
       "      <th>6</th>\n",
       "      <td>9435</td>\n",
       "      <td>10037</td>\n",
       "      <td>2013-08-29</td>\n",
       "      <td>E119</td>\n",
       "      <td>10745.0</td>\n",
       "      <td>9435.0</td>\n",
       "      <td>2016-06-20</td>\n",
       "      <td>2</td>\n",
       "      <td>2016-06-08 14:47:30</td>\n",
       "    </tr>\n",
       "    <tr>\n",
       "      <th>...</th>\n",
       "      <td>...</td>\n",
       "      <td>...</td>\n",
       "      <td>...</td>\n",
       "      <td>...</td>\n",
       "      <td>...</td>\n",
       "      <td>...</td>\n",
       "      <td>...</td>\n",
       "      <td>...</td>\n",
       "      <td>...</td>\n",
       "    </tr>\n",
       "    <tr>\n",
       "      <th>642465</th>\n",
       "      <td>99782</td>\n",
       "      <td>9923</td>\n",
       "      <td>2010-06-02</td>\n",
       "      <td>E11</td>\n",
       "      <td>11386</td>\n",
       "      <td>99782</td>\n",
       "      <td>0000-00-00</td>\n",
       "      <td>3</td>\n",
       "      <td>2014-12-22 15:57:39</td>\n",
       "    </tr>\n",
       "    <tr>\n",
       "      <th>642466</th>\n",
       "      <td>99782</td>\n",
       "      <td>9923</td>\n",
       "      <td>2012-06-20</td>\n",
       "      <td>E115</td>\n",
       "      <td>11386</td>\n",
       "      <td>99782</td>\n",
       "      <td>0000-00-00</td>\n",
       "      <td>3</td>\n",
       "      <td>2014-12-22 15:57:44</td>\n",
       "    </tr>\n",
       "    <tr>\n",
       "      <th>642467</th>\n",
       "      <td>99782</td>\n",
       "      <td>9923</td>\n",
       "      <td>2011-02-04</td>\n",
       "      <td>E119</td>\n",
       "      <td>11386</td>\n",
       "      <td>99782</td>\n",
       "      <td>0000-00-00</td>\n",
       "      <td>3</td>\n",
       "      <td>2014-12-22 15:57:48</td>\n",
       "    </tr>\n",
       "    <tr>\n",
       "      <th>642468</th>\n",
       "      <td>99782</td>\n",
       "      <td>9923</td>\n",
       "      <td>2014-09-17</td>\n",
       "      <td>E145</td>\n",
       "      <td>11386</td>\n",
       "      <td>99782</td>\n",
       "      <td>0000-00-00</td>\n",
       "      <td>3</td>\n",
       "      <td>2014-12-22 15:57:53</td>\n",
       "    </tr>\n",
       "    <tr>\n",
       "      <th>642474</th>\n",
       "      <td>99782</td>\n",
       "      <td>9982</td>\n",
       "      <td>2014-07-01</td>\n",
       "      <td>J46</td>\n",
       "      <td>99782</td>\n",
       "      <td>11386</td>\n",
       "      <td>0000-00-00</td>\n",
       "      <td>3</td>\n",
       "      <td>2014-07-02 13:22:34</td>\n",
       "    </tr>\n",
       "  </tbody>\n",
       "</table>\n",
       "<p>351707 rows × 9 columns</p>\n",
       "</div>"
      ],
      "text/plain": [
       "        HOSPCODE    PID   DATE_DIAG CHRONIC  HOSP_DX  HOSP_RX  DATE_DISCH  \\\n",
       "0           9435  10002  2016-01-21     I10  10745.0  10745.0  0000-00-00   \n",
       "3           9435  10031  2016-03-31    E119    856.0   9435.0  0000-00-00   \n",
       "4           9435  10036  2009-03-10    E119  10745.0   9435.0  0000-00-00   \n",
       "5           9435  10036  2009-03-10     I10  10745.0   9435.0  0000-00-00   \n",
       "6           9435  10037  2013-08-29    E119  10745.0   9435.0  2016-06-20   \n",
       "...          ...    ...         ...     ...      ...      ...         ...   \n",
       "642465     99782   9923  2010-06-02     E11    11386    99782  0000-00-00   \n",
       "642466     99782   9923  2012-06-20    E115    11386    99782  0000-00-00   \n",
       "642467     99782   9923  2011-02-04    E119    11386    99782  0000-00-00   \n",
       "642468     99782   9923  2014-09-17    E145    11386    99782  0000-00-00   \n",
       "642474     99782   9982  2014-07-01     J46    99782    11386  0000-00-00   \n",
       "\n",
       "        TYPEDISCH             D_UPDATE  \n",
       "0               3  2016-06-21 13:34:24  \n",
       "3               3  2016-10-19 09:38:14  \n",
       "4               3  2016-09-06 10:11:39  \n",
       "5               3  2016-09-06 10:11:41  \n",
       "6               2  2016-06-08 14:47:30  \n",
       "...           ...                  ...  \n",
       "642465          3  2014-12-22 15:57:39  \n",
       "642466          3  2014-12-22 15:57:44  \n",
       "642467          3  2014-12-22 15:57:48  \n",
       "642468          3  2014-12-22 15:57:53  \n",
       "642474          3  2014-07-02 13:22:34  \n",
       "\n",
       "[351707 rows x 9 columns]"
      ]
     },
     "execution_count": 12,
     "metadata": {},
     "output_type": "execute_result"
    }
   ],
   "source": [
    "df=pd.read_csv('chronic_2016_90_all.csv')\n",
    "df.dropna(subset=['HOSP_DX'])"
   ]
  },
  {
   "cell_type": "code",
   "execution_count": 14,
   "id": "afa3b5cd-3a68-41bf-9dd6-806559df517d",
   "metadata": {},
   "outputs": [
    {
     "data": {
      "text/plain": [
       "np.float64(11360.18542475818)"
      ]
     },
     "execution_count": 14,
     "metadata": {},
     "output_type": "execute_result"
    }
   ],
   "source": [
    "df['HOSP_DX']= pd.to_numeric(df['HOSP_DX'] , errors= 'coerce')\n",
    "df['HOSP_DX'].mean()"
   ]
  },
  {
   "cell_type": "code",
   "execution_count": 16,
   "id": "2f251e35-7a82-4e34-9575-d26615dfa00a",
   "metadata": {},
   "outputs": [
    {
     "data": {
      "text/html": [
       "<div>\n",
       "<style scoped>\n",
       "    .dataframe tbody tr th:only-of-type {\n",
       "        vertical-align: middle;\n",
       "    }\n",
       "\n",
       "    .dataframe tbody tr th {\n",
       "        vertical-align: top;\n",
       "    }\n",
       "\n",
       "    .dataframe thead th {\n",
       "        text-align: right;\n",
       "    }\n",
       "</style>\n",
       "<table border=\"1\" class=\"dataframe\">\n",
       "  <thead>\n",
       "    <tr style=\"text-align: right;\">\n",
       "      <th></th>\n",
       "      <th>zone</th>\n",
       "      <th>province</th>\n",
       "      <th>2017</th>\n",
       "      <th>2018</th>\n",
       "    </tr>\n",
       "  </thead>\n",
       "  <tbody>\n",
       "    <tr>\n",
       "      <th>0</th>\n",
       "      <td>0</td>\n",
       "      <td>Bangkok</td>\n",
       "      <td>128883</td>\n",
       "      <td>136418</td>\n",
       "    </tr>\n",
       "    <tr>\n",
       "      <th>1</th>\n",
       "      <td>1</td>\n",
       "      <td>Chiang Mai</td>\n",
       "      <td>33071</td>\n",
       "      <td>35546</td>\n",
       "    </tr>\n",
       "    <tr>\n",
       "      <th>2</th>\n",
       "      <td>1</td>\n",
       "      <td>Lamphun</td>\n",
       "      <td>5406</td>\n",
       "      <td>6992</td>\n",
       "    </tr>\n",
       "    <tr>\n",
       "      <th>3</th>\n",
       "      <td>1</td>\n",
       "      <td>Lampang</td>\n",
       "      <td>21150</td>\n",
       "      <td>22130</td>\n",
       "    </tr>\n",
       "    <tr>\n",
       "      <th>4</th>\n",
       "      <td>1</td>\n",
       "      <td>Phrae</td>\n",
       "      <td>15019</td>\n",
       "      <td>15262</td>\n",
       "    </tr>\n",
       "    <tr>\n",
       "      <th>...</th>\n",
       "      <td>...</td>\n",
       "      <td>...</td>\n",
       "      <td>...</td>\n",
       "      <td>...</td>\n",
       "    </tr>\n",
       "    <tr>\n",
       "      <th>72</th>\n",
       "      <td>12</td>\n",
       "      <td>Trang</td>\n",
       "      <td>16467</td>\n",
       "      <td>17421</td>\n",
       "    </tr>\n",
       "    <tr>\n",
       "      <th>73</th>\n",
       "      <td>12</td>\n",
       "      <td>Phatthalung</td>\n",
       "      <td>11398</td>\n",
       "      <td>12646</td>\n",
       "    </tr>\n",
       "    <tr>\n",
       "      <th>74</th>\n",
       "      <td>12</td>\n",
       "      <td>Pattani</td>\n",
       "      <td>7513</td>\n",
       "      <td>7974</td>\n",
       "    </tr>\n",
       "    <tr>\n",
       "      <th>75</th>\n",
       "      <td>12</td>\n",
       "      <td>Yala</td>\n",
       "      <td>8652</td>\n",
       "      <td>8359</td>\n",
       "    </tr>\n",
       "    <tr>\n",
       "      <th>76</th>\n",
       "      <td>12</td>\n",
       "      <td>Narathiwat</td>\n",
       "      <td>14736</td>\n",
       "      <td>17594</td>\n",
       "    </tr>\n",
       "  </tbody>\n",
       "</table>\n",
       "<p>77 rows × 4 columns</p>\n",
       "</div>"
      ],
      "text/plain": [
       "    zone     province    2017    2018\n",
       "0      0      Bangkok  128883  136418\n",
       "1      1   Chiang Mai   33071   35546\n",
       "2      1      Lamphun    5406    6992\n",
       "3      1      Lampang   21150   22130\n",
       "4      1        Phrae   15019   15262\n",
       "..   ...          ...     ...     ...\n",
       "72    12        Trang   16467   17421\n",
       "73    12  Phatthalung   11398   12646\n",
       "74    12      Pattani    7513    7974\n",
       "75    12         Yala    8652    8359\n",
       "76    12   Narathiwat   14736   17594\n",
       "\n",
       "[77 rows x 4 columns]"
      ]
     },
     "execution_count": 16,
     "metadata": {},
     "output_type": "execute_result"
    }
   ],
   "source": [
    "import pandas as pd\n",
    "\n",
    "df1=pd.read_csv('hypertension_2017.csv')\n",
    "df2=pd.read_csv('hypertension_2018.csv')\n",
    "df_all= pd.merge(df1, df2 , how ='inner', on = '')\n",
    "df_all"
   ]
  },
  {
   "cell_type": "code",
   "execution_count": 26,
   "id": "6683e504-cc7a-4f2c-b60d-f80fdd9f4dfd",
   "metadata": {},
   "outputs": [
    {
     "data": {
      "text/plain": [
       "<Axes: xlabel='PROVINCE_NAME'>"
      ]
     },
     "execution_count": 26,
     "metadata": {},
     "output_type": "execute_result"
    },
    {
     "data": {
      "image/png": "[encoded data removed]",
      "text/plain": [
       "<Figure size 640x480 with 1 Axes>"
      ]
     },
     "metadata": {},
     "output_type": "display_data"
    }
   ],
   "source": [
    "import pandas as pd\n",
    "import matplotlib.pyplot as plt\n",
    "\n",
    "df1= pd.read_csv('person.csv')\n",
    "df2= pd.read_csv('province.csv')\n",
    "df3= pd.read_csv('diag.csv')\n",
    "df1=df1[['PID','PROVINCE_ID']]\n",
    "df3=df3[['PID','CHRONIC']]\n",
    "df_12=pd.merge(df1, df2)\n",
    "df_all=pd.merge(df_12, df3)\n",
    "df_all\n",
    "df_all[df_all['CHRONIC'] == 'E119']['PROVINCE_NAME'].value_counts().plot.bar()\n",
    "\n"
   ]
  },
  {
   "cell_type": "code",
   "execution_count": 27,
   "id": "93a4dd6d-60b4-4e78-949a-8494eac69794",
   "metadata": {},
   "outputs": [
    {
     "name": "stdout",
     "output_type": "stream",
     "text": [
      "Collecting seaborn\n",
      "  Downloading seaborn-0.13.2-py3-none-any.whl.metadata (5.4 kB)\n",
      "Requirement already satisfied: numpy!=1.24.0,>=1.20 in \\\\acerstorage\\home\\b6\\home2\\6708142\\6708142-csc475-141\\venv\\lib\\site-packages (from seaborn) (2.3.2)\n",
      "Requirement already satisfied: pandas>=1.2 in \\\\acerstorage\\home\\b6\\home2\\6708142\\6708142-csc475-141\\venv\\lib\\site-packages (from seaborn) (2.3.2)\n",
      "Requirement already satisfied: matplotlib!=3.6.1,>=3.4 in \\\\acerstorage\\home\\b6\\home2\\6708142\\6708142-csc475-141\\venv\\lib\\site-packages (from seaborn) (3.10.6)\n",
      "Requirement already satisfied: contourpy>=1.0.1 in \\\\acerstorage\\home\\b6\\home2\\6708142\\6708142-csc475-141\\venv\\lib\\site-packages (from matplotlib!=3.6.1,>=3.4->seaborn) (1.3.3)\n",
      "Requirement already satisfied: cycler>=0.10 in \\\\acerstorage\\home\\b6\\home2\\6708142\\6708142-csc475-141\\venv\\lib\\site-packages (from matplotlib!=3.6.1,>=3.4->seaborn) (0.12.1)\n",
      "Requirement already satisfied: fonttools>=4.22.0 in \\\\acerstorage\\home\\b6\\home2\\6708142\\6708142-csc475-141\\venv\\lib\\site-packages (from matplotlib!=3.6.1,>=3.4->seaborn) (4.59.2)\n",
      "Requirement already satisfied: kiwisolver>=1.3.1 in \\\\acerstorage\\home\\b6\\home2\\6708142\\6708142-csc475-141\\venv\\lib\\site-packages (from matplotlib!=3.6.1,>=3.4->seaborn) (1.4.9)\n",
      "Requirement already satisfied: packaging>=20.0 in \\\\acerstorage\\home\\b6\\home2\\6708142\\6708142-csc475-141\\venv\\lib\\site-packages (from matplotlib!=3.6.1,>=3.4->seaborn) (25.0)\n",
      "Requirement already satisfied: pillow>=8 in \\\\acerstorage\\home\\b6\\home2\\6708142\\6708142-csc475-141\\venv\\lib\\site-packages (from matplotlib!=3.6.1,>=3.4->seaborn) (11.3.0)\n",
      "Requirement already satisfied: pyparsing>=2.3.1 in \\\\acerstorage\\home\\b6\\home2\\6708142\\6708142-csc475-141\\venv\\lib\\site-packages (from matplotlib!=3.6.1,>=3.4->seaborn) (3.2.3)\n",
      "Requirement already satisfied: python-dateutil>=2.7 in \\\\acerstorage\\home\\b6\\home2\\6708142\\6708142-csc475-141\\venv\\lib\\site-packages (from matplotlib!=3.6.1,>=3.4->seaborn) (2.9.0.post0)\n",
      "Requirement already satisfied: pytz>=2020.1 in \\\\acerstorage\\home\\b6\\home2\\6708142\\6708142-csc475-141\\venv\\lib\\site-packages (from pandas>=1.2->seaborn) (2025.2)\n",
      "Requirement already satisfied: tzdata>=2022.7 in \\\\acerstorage\\home\\b6\\home2\\6708142\\6708142-csc475-141\\venv\\lib\\site-packages (from pandas>=1.2->seaborn) (2025.2)\n",
      "Requirement already satisfied: six>=1.5 in \\\\acerstorage\\home\\b6\\home2\\6708142\\6708142-csc475-141\\venv\\lib\\site-packages (from python-dateutil>=2.7->matplotlib!=3.6.1,>=3.4->seaborn) (1.17.0)\n",
      "Downloading seaborn-0.13.2-py3-none-any.whl (294 kB)\n",
      "Installing collected packages: seaborn\n",
      "Successfully installed seaborn-0.13.2\n"
     ]
    },
    {
     "name": "stderr",
     "output_type": "stream",
     "text": [
      "\n",
      "[notice] A new release of pip is available: 24.2 -> 25.2\n",
      "[notice] To update, run: python.exe -m pip install --upgrade pip\n"
     ]
    }
   ],
   "source": [
    "!pip install seaborn"
   ]
  },
  {
   "cell_type": "code",
   "execution_count": 28,
   "id": "b9609aa0-d1da-481d-91f7-42224a924996",
   "metadata": {},
   "outputs": [
    {
     "data": {
      "image/png": "[encoded data removed]",
      "text/plain": [
       "<Figure size 800x600 with 1 Axes>"
      ]
     },
     "metadata": {},
     "output_type": "display_data"
    }
   ],
   "source": [
    "import pandas as pd\n",
    "import matplotlib.pyplot as plt\n",
    "import seaborn as sns\n",
    "\n",
    "df= pd.read_csv('hypertension_all.csv')\n",
    "plt.figure(figsize=(8,6))\n",
    "sns.histplot(df['2018'], color='skyblue', kde= True, bins= [0, 20000, 40000, 60000, 80000, 100000, 120000, 140000])\n",
    "plt.title('Number of patients with hypertension in 2018')\n",
    "plt.xlabel('number of patients')\n",
    "plt.ylabel('number of provinces')\n",
    "plt.grid(True)\n",
    "plt.show()"
   ]
  },
  {
   "cell_type": "code",
   "execution_count": 35,
   "id": "fa589dd6-d39d-406d-98ac-9d32e5750395",
   "metadata": {},
   "outputs": [
    {
     "data": {
      "text/plain": [
       "<Axes: xlabel='province', ylabel='2018'>"
      ]
     },
     "execution_count": 35,
     "metadata": {},
     "output_type": "execute_result"
    },
    {
     "data": {
      "image/png": "[encoded data removed]",
      "text/plain": [
       "<Figure size 2000x600 with 1 Axes>"
      ]
     },
     "metadata": {},
     "output_type": "display_data"
    }
   ],
   "source": [
    "df_top= df.sort_values(by='population', ascending=False).head(10)\n",
    "df_top\n",
    "plt.figure(figsize=(20,6))\n",
    "sns.barplot(x=df_top['province'], y=df_top['2018'],color='orange')"
   ]
  },
  {
   "cell_type": "code",
   "execution_count": null,
   "id": "53a00f92-25d7-4f3c-bc83-19b4a5065de4",
   "metadata": {},
   "outputs": [],
   "source": []
  }
 ],
 "metadata": {
  "kernelspec": {
   "display_name": "Python 3 (ipykernel)",
   "language": "python",
   "name": "python3"
  },
  "language_info": {
   "codemirror_mode": {
    "name": "ipython",
    "version": 3
   },
   "file_extension": ".py",
   "mimetype": "text/x-python",
   "name": "python",
   "nbconvert_exporter": "python",
   "pygments_lexer": "ipython3",
   "version": "3.12.5"
  }
 },
 "nbformat": 4,
 "nbformat_minor": 5
}
