{
 "cells": [
  {
   "cell_type": "code",
   "execution_count": 20,
   "id": "37fef57e-922f-4118-9bcc-9286e3ce631c",
   "metadata": {},
   "outputs": [],
   "source": [
    "import pymysql"
   ]
  },
  {
   "cell_type": "code",
   "execution_count": 2,
   "id": "b26909d8-ceae-4345-aa61-1f823ce9f258",
   "metadata": {},
   "outputs": [
    {
     "name": "stdout",
     "output_type": "stream",
     "text": [
      "Collecting PyMySQL\n",
      "  Downloading pymysql-1.1.2-py3-none-any.whl.metadata (4.3 kB)\n",
      "Downloading pymysql-1.1.2-py3-none-any.whl (45 kB)\n",
      "Installing collected packages: PyMySQL\n",
      "Successfully installed PyMySQL-1.1.2\n"
     ]
    },
    {
     "name": "stderr",
     "output_type": "stream",
     "text": [
      "\n",
      "[notice] A new release of pip is available: 24.2 -> 25.2\n",
      "[notice] To update, run: python.exe -m pip install --upgrade pip\n"
     ]
    }
   ],
   "source": [
    "!pip install PyMySQL"
   ]
  },
  {
   "cell_type": "markdown",
   "id": "56b911f9-1bb5-426d-a98f-a5c2f65d741e",
   "metadata": {},
   "source": [
    "# Connect to MySQL"
   ]
  },
  {
   "cell_type": "code",
   "execution_count": 15,
   "id": "b658d4fe-f6be-4518-9170-ada0544e08e1",
   "metadata": {},
   "outputs": [],
   "source": [
    "connection = pymysql.connect(\n",
    "    host='localhost',\n",
    "    port= 3306,\n",
    "    user='u6708142',\n",
    "    password='6708142'\n",
    ")"
   ]
  },
  {
   "cell_type": "markdown",
   "id": "56df164f-5526-4177-a494-d24c9f9dd8d7",
   "metadata": {},
   "source": [
    "# Showing the databases"
   ]
  },
  {
   "cell_type": "code",
   "execution_count": 13,
   "id": "4c28c8de-f8c9-47b0-a815-5e5319c44cca",
   "metadata": {},
   "outputs": [
    {
     "name": "stdout",
     "output_type": "stream",
     "text": [
      "('information_schema',)\n",
      "('mysql',)\n",
      "('performance_schema',)\n",
      "('phpmyadmin',)\n",
      "('test',)\n"
     ]
    }
   ],
   "source": [
    "cursor= connection.cursor()\n",
    "cursor.execute(\"SHOW DATABASES\")\n",
    "results= cursor.fetchall()\n",
    "for row in results:\n",
    "    print(row)"
   ]
  },
  {
   "cell_type": "markdown",
   "id": "77f912df-3710-4caa-b6af-be950c57f8f8",
   "metadata": {},
   "source": [
    "# Create a database"
   ]
  },
  {
   "cell_type": "code",
   "execution_count": 14,
   "id": "48c3b723-eb7a-46d4-a985-ef8116a1e36c",
   "metadata": {},
   "outputs": [
    {
     "name": "stdout",
     "output_type": "stream",
     "text": [
      "information_schema\n",
      "mysql\n",
      "performance_schema\n",
      "phpmyadmin\n",
      "test\n",
      "u6708142_mydb\n"
     ]
    }
   ],
   "source": [
    "cursor= connection.cursor()\n",
    "cursor.execute('CREATE DATABASE u6708142_mydb;')\n",
    "cursor.execute('SHOW DATABASES;')\n",
    "results= cursor.fetchall()\n",
    "for row in results:\n",
    "    print(row[0])"
   ]
  },
  {
   "cell_type": "markdown",
   "id": "17ef419c-2679-47b8-83d6-ea19bb9386be",
   "metadata": {},
   "source": [
    "# Manage table with mySQL"
   ]
  },
  {
   "cell_type": "markdown",
   "id": "764f27a3-91c4-43eb-bab2-249c8f274dd3",
   "metadata": {},
   "source": [
    "__Create a Table__"
   ]
  },
  {
   "cell_type": "code",
   "execution_count": 16,
   "id": "d1341e42-3345-4f35-a0e3-d096169b7d69",
   "metadata": {},
   "outputs": [],
   "source": [
    "connection=pymysql.connect(\n",
    "    host= 'localhost',\n",
    "    port=3306,\n",
    "    user='u6708142',\n",
    "    password='6708142',\n",
    "    database='u6708142_mydb'\n",
    ")"
   ]
  },
  {
   "cell_type": "code",
   "execution_count": 22,
   "id": "713faf9c-5260-4ba4-a4fb-e106774ecf57",
   "metadata": {},
   "outputs": [
    {
     "ename": "OperationalError",
     "evalue": "(1050, \"Table 'user' already exists\")",
     "output_type": "error",
     "traceback": [
      "\u001b[31m---------------------------------------------------------------------------\u001b[39m",
      "\u001b[31mOperationalError\u001b[39m                          Traceback (most recent call last)",
      "\u001b[36mCell\u001b[39m\u001b[36m \u001b[39m\u001b[32mIn[22]\u001b[39m\u001b[32m, line 2\u001b[39m\n\u001b[32m      1\u001b[39m cursor=connection.cursor()\n\u001b[32m----> \u001b[39m\u001b[32m2\u001b[39m \u001b[43mcursor\u001b[49m\u001b[43m.\u001b[49m\u001b[43mexecute\u001b[49m\u001b[43m(\u001b[49m\u001b[33;43m'''\u001b[39;49m\n\u001b[32m      3\u001b[39m \u001b[33;43mCREATE TABLE user(\u001b[39;49m\n\u001b[32m      4\u001b[39m \u001b[33;43m    id INTEGER NOT NULL AUTO_INCREMENT,\u001b[39;49m\n\u001b[32m      5\u001b[39m \u001b[33;43m    email VARCHAR(255) NOT NULL,\u001b[39;49m\n\u001b[32m      6\u001b[39m \u001b[33;43m    fullname VARCHAR(255) NULL,\u001b[39;49m\n\u001b[32m      7\u001b[39m \u001b[33;43m    PRIMARY KEY (id)\u001b[39;49m\n\u001b[32m      8\u001b[39m \u001b[33;43m)\u001b[39;49m\n\u001b[32m      9\u001b[39m \u001b[33;43m'''\u001b[39;49m\u001b[43m)\u001b[49m\n\u001b[32m     10\u001b[39m cursor.execute(\u001b[33m\"\u001b[39m\u001b[33mSHOW TABLES\u001b[39m\u001b[33m\"\u001b[39m)\n\u001b[32m     11\u001b[39m results = cursor.fetchall()\n",
      "\u001b[36mFile \u001b[39m\u001b[32m\\\\acerstorage\\home\\B6\\home2\\6708142\\6708142-CSC475-141\\venv\\Lib\\site-packages\\pymysql\\cursors.py:153\u001b[39m, in \u001b[36mCursor.execute\u001b[39m\u001b[34m(self, query, args)\u001b[39m\n\u001b[32m    149\u001b[39m     \u001b[38;5;28;01mpass\u001b[39;00m\n\u001b[32m    151\u001b[39m query = \u001b[38;5;28mself\u001b[39m.mogrify(query, args)\n\u001b[32m--> \u001b[39m\u001b[32m153\u001b[39m result = \u001b[38;5;28;43mself\u001b[39;49m\u001b[43m.\u001b[49m\u001b[43m_query\u001b[49m\u001b[43m(\u001b[49m\u001b[43mquery\u001b[49m\u001b[43m)\u001b[49m\n\u001b[32m    154\u001b[39m \u001b[38;5;28mself\u001b[39m._executed = query\n\u001b[32m    155\u001b[39m \u001b[38;5;28;01mreturn\u001b[39;00m result\n",
      "\u001b[36mFile \u001b[39m\u001b[32m\\\\acerstorage\\home\\B6\\home2\\6708142\\6708142-CSC475-141\\venv\\Lib\\site-packages\\pymysql\\cursors.py:322\u001b[39m, in \u001b[36mCursor._query\u001b[39m\u001b[34m(self, q)\u001b[39m\n\u001b[32m    320\u001b[39m conn = \u001b[38;5;28mself\u001b[39m._get_db()\n\u001b[32m    321\u001b[39m \u001b[38;5;28mself\u001b[39m._clear_result()\n\u001b[32m--> \u001b[39m\u001b[32m322\u001b[39m \u001b[43mconn\u001b[49m\u001b[43m.\u001b[49m\u001b[43mquery\u001b[49m\u001b[43m(\u001b[49m\u001b[43mq\u001b[49m\u001b[43m)\u001b[49m\n\u001b[32m    323\u001b[39m \u001b[38;5;28mself\u001b[39m._do_get_result()\n\u001b[32m    324\u001b[39m \u001b[38;5;28;01mreturn\u001b[39;00m \u001b[38;5;28mself\u001b[39m.rowcount\n",
      "\u001b[36mFile \u001b[39m\u001b[32m\\\\acerstorage\\home\\B6\\home2\\6708142\\6708142-CSC475-141\\venv\\Lib\\site-packages\\pymysql\\connections.py:575\u001b[39m, in \u001b[36mConnection.query\u001b[39m\u001b[34m(self, sql, unbuffered)\u001b[39m\n\u001b[32m    573\u001b[39m     sql = sql.encode(\u001b[38;5;28mself\u001b[39m.encoding, \u001b[33m\"\u001b[39m\u001b[33msurrogateescape\u001b[39m\u001b[33m\"\u001b[39m)\n\u001b[32m    574\u001b[39m \u001b[38;5;28mself\u001b[39m._execute_command(COMMAND.COM_QUERY, sql)\n\u001b[32m--> \u001b[39m\u001b[32m575\u001b[39m \u001b[38;5;28mself\u001b[39m._affected_rows = \u001b[38;5;28;43mself\u001b[39;49m\u001b[43m.\u001b[49m\u001b[43m_read_query_result\u001b[49m\u001b[43m(\u001b[49m\u001b[43munbuffered\u001b[49m\u001b[43m=\u001b[49m\u001b[43munbuffered\u001b[49m\u001b[43m)\u001b[49m\n\u001b[32m    576\u001b[39m \u001b[38;5;28;01mreturn\u001b[39;00m \u001b[38;5;28mself\u001b[39m._affected_rows\n",
      "\u001b[36mFile \u001b[39m\u001b[32m\\\\acerstorage\\home\\B6\\home2\\6708142\\6708142-CSC475-141\\venv\\Lib\\site-packages\\pymysql\\connections.py:826\u001b[39m, in \u001b[36mConnection._read_query_result\u001b[39m\u001b[34m(self, unbuffered)\u001b[39m\n\u001b[32m    824\u001b[39m     result.init_unbuffered_query()\n\u001b[32m    825\u001b[39m \u001b[38;5;28;01melse\u001b[39;00m:\n\u001b[32m--> \u001b[39m\u001b[32m826\u001b[39m     \u001b[43mresult\u001b[49m\u001b[43m.\u001b[49m\u001b[43mread\u001b[49m\u001b[43m(\u001b[49m\u001b[43m)\u001b[49m\n\u001b[32m    827\u001b[39m \u001b[38;5;28mself\u001b[39m._result = result\n\u001b[32m    828\u001b[39m \u001b[38;5;28;01mif\u001b[39;00m result.server_status \u001b[38;5;129;01mis\u001b[39;00m \u001b[38;5;129;01mnot\u001b[39;00m \u001b[38;5;28;01mNone\u001b[39;00m:\n",
      "\u001b[36mFile \u001b[39m\u001b[32m\\\\acerstorage\\home\\B6\\home2\\6708142\\6708142-CSC475-141\\venv\\Lib\\site-packages\\pymysql\\connections.py:1203\u001b[39m, in \u001b[36mMySQLResult.read\u001b[39m\u001b[34m(self)\u001b[39m\n\u001b[32m   1201\u001b[39m \u001b[38;5;28;01mdef\u001b[39;00m\u001b[38;5;250m \u001b[39m\u001b[34mread\u001b[39m(\u001b[38;5;28mself\u001b[39m):\n\u001b[32m   1202\u001b[39m     \u001b[38;5;28;01mtry\u001b[39;00m:\n\u001b[32m-> \u001b[39m\u001b[32m1203\u001b[39m         first_packet = \u001b[38;5;28;43mself\u001b[39;49m\u001b[43m.\u001b[49m\u001b[43mconnection\u001b[49m\u001b[43m.\u001b[49m\u001b[43m_read_packet\u001b[49m\u001b[43m(\u001b[49m\u001b[43m)\u001b[49m\n\u001b[32m   1205\u001b[39m         \u001b[38;5;28;01mif\u001b[39;00m first_packet.is_ok_packet():\n\u001b[32m   1206\u001b[39m             \u001b[38;5;28mself\u001b[39m._read_ok_packet(first_packet)\n",
      "\u001b[36mFile \u001b[39m\u001b[32m\\\\acerstorage\\home\\B6\\home2\\6708142\\6708142-CSC475-141\\venv\\Lib\\site-packages\\pymysql\\connections.py:782\u001b[39m, in \u001b[36mConnection._read_packet\u001b[39m\u001b[34m(self, packet_type)\u001b[39m\n\u001b[32m    780\u001b[39m     \u001b[38;5;28;01mif\u001b[39;00m \u001b[38;5;28mself\u001b[39m._result \u001b[38;5;129;01mis\u001b[39;00m \u001b[38;5;129;01mnot\u001b[39;00m \u001b[38;5;28;01mNone\u001b[39;00m \u001b[38;5;129;01mand\u001b[39;00m \u001b[38;5;28mself\u001b[39m._result.unbuffered_active \u001b[38;5;129;01mis\u001b[39;00m \u001b[38;5;28;01mTrue\u001b[39;00m:\n\u001b[32m    781\u001b[39m         \u001b[38;5;28mself\u001b[39m._result.unbuffered_active = \u001b[38;5;28;01mFalse\u001b[39;00m\n\u001b[32m--> \u001b[39m\u001b[32m782\u001b[39m     \u001b[43mpacket\u001b[49m\u001b[43m.\u001b[49m\u001b[43mraise_for_error\u001b[49m\u001b[43m(\u001b[49m\u001b[43m)\u001b[49m\n\u001b[32m    783\u001b[39m \u001b[38;5;28;01mreturn\u001b[39;00m packet\n",
      "\u001b[36mFile \u001b[39m\u001b[32m\\\\acerstorage\\home\\B6\\home2\\6708142\\6708142-CSC475-141\\venv\\Lib\\site-packages\\pymysql\\protocol.py:219\u001b[39m, in \u001b[36mMysqlPacket.raise_for_error\u001b[39m\u001b[34m(self)\u001b[39m\n\u001b[32m    217\u001b[39m \u001b[38;5;28;01mif\u001b[39;00m DEBUG:\n\u001b[32m    218\u001b[39m     \u001b[38;5;28mprint\u001b[39m(\u001b[33m\"\u001b[39m\u001b[33merrno =\u001b[39m\u001b[33m\"\u001b[39m, errno)\n\u001b[32m--> \u001b[39m\u001b[32m219\u001b[39m \u001b[43merr\u001b[49m\u001b[43m.\u001b[49m\u001b[43mraise_mysql_exception\u001b[49m\u001b[43m(\u001b[49m\u001b[38;5;28;43mself\u001b[39;49m\u001b[43m.\u001b[49m\u001b[43m_data\u001b[49m\u001b[43m)\u001b[49m\n",
      "\u001b[36mFile \u001b[39m\u001b[32m\\\\acerstorage\\home\\B6\\home2\\6708142\\6708142-CSC475-141\\venv\\Lib\\site-packages\\pymysql\\err.py:150\u001b[39m, in \u001b[36mraise_mysql_exception\u001b[39m\u001b[34m(data)\u001b[39m\n\u001b[32m    148\u001b[39m \u001b[38;5;28;01mif\u001b[39;00m errorclass \u001b[38;5;129;01mis\u001b[39;00m \u001b[38;5;28;01mNone\u001b[39;00m:\n\u001b[32m    149\u001b[39m     errorclass = InternalError \u001b[38;5;28;01mif\u001b[39;00m errno < \u001b[32m1000\u001b[39m \u001b[38;5;28;01melse\u001b[39;00m OperationalError\n\u001b[32m--> \u001b[39m\u001b[32m150\u001b[39m \u001b[38;5;28;01mraise\u001b[39;00m errorclass(errno, errval)\n",
      "\u001b[31mOperationalError\u001b[39m: (1050, \"Table 'user' already exists\")"
     ]
    }
   ],
   "source": [
    "cursor=connection.cursor()\n",
    "cursor.execute('''\n",
    "CREATE TABLE user(\n",
    "    id INTEGER NOT NULL AUTO_INCREMENT,\n",
    "    email VARCHAR(255) NOT NULL,\n",
    "    fullname VARCHAR(255) NULL,\n",
    "    PRIMARY KEY (id)\n",
    ")\n",
    "''')"
   ]
  },
  {
   "cell_type": "code",
   "execution_count": 23,
   "id": "2d7951bf-cdaf-4cbc-a180-c7c95050e14d",
   "metadata": {},
   "outputs": [
    {
     "name": "stdout",
     "output_type": "stream",
     "text": [
      "('user',)\n"
     ]
    }
   ],
   "source": [
    "cursor.execute(\"SHOW TABLES\")\n",
    "results = cursor.fetchall()\n",
    "for row in results:\n",
    "    print(row)"
   ]
  },
  {
   "cell_type": "markdown",
   "id": "4a352f3c-a88b-4616-9977-fda7b7986413",
   "metadata": {},
   "source": [
    "__Altering the structure of a datebase table__"
   ]
  },
  {
   "cell_type": "code",
   "execution_count": 24,
   "id": "b0d27941-59e2-449f-8dcf-00553b5dff13",
   "metadata": {},
   "outputs": [
    {
     "name": "stdout",
     "output_type": "stream",
     "text": [
      "('id', 'int(11)', 'NO', 'PRI', None, 'auto_increment')\n",
      "('email', 'varchar(255)', 'YES', '', None, '')\n",
      "('fullname', 'varchar(255)', 'YES', '', None, '')\n",
      "('city', 'varchar(255)', 'NO', '', None, '')\n"
     ]
    }
   ],
   "source": [
    "cursor= connection.cursor()\n",
    "cursor.execute(\"ALTER TABLE user ADD city VARCHAR(255) NOT NULL AFTER fullname\")\n",
    "cursor.execute(\"DESCRIBE user\")\n",
    "\n",
    "results= cursor.fetchall()\n",
    "for row in results:\n",
    "    print(row)"
   ]
  },
  {
   "cell_type": "markdown",
   "id": "65fc0fdd-9aa7-4e95-88b3-e79d89a37e53",
   "metadata": {},
   "source": [
    "__Activity 1__"
   ]
  },
  {
   "cell_type": "code",
   "execution_count": 49,
   "id": "5550a63b-8929-4b9b-9f90-b0dd45709f3f",
   "metadata": {},
   "outputs": [
    {
     "name": "stdout",
     "output_type": "stream",
     "text": [
      "('patient',)\n"
     ]
    }
   ],
   "source": [
    "connection=pymysql.connect(\n",
    "    host= 'localhost',\n",
    "    port=3306,\n",
    "    user='u6708142',\n",
    "    password='6708142',\n",
    "    database='u6708142_mydb2'\n",
    ")\n",
    "\n",
    "cursor=connection.cursor()\n",
    "cursor.execute('''\n",
    "CREATE TABLE patient(\n",
    "    id INTEGER NOT NULL AUTO_INCREMENT,\n",
    "    hospcode INT(10) NOT NULL,\n",
    "    pid VARCHAR(255) NOT NULL,\n",
    "    chronic VARCHAR(255) NOT NULL,\n",
    "    PRIMARY KEY (id)\n",
    ")\n",
    "''')\n",
    "cursor.execute(\"SHOW TABLES\")\n",
    "results = cursor.fetchall()\n",
    "for row in results:\n",
    "    print(row)"
   ]
  },
  {
   "cell_type": "code",
   "execution_count": 31,
   "id": "dfecc479-b480-4f4e-aa08-152322384755",
   "metadata": {},
   "outputs": [
    {
     "name": "stdout",
     "output_type": "stream",
     "text": [
      "('id', 'int(11)', 'NO', 'PRI', None, 'auto_increment')\n",
      "('hospcode', 'int(10)', 'NO', '', None, '')\n",
      "('pid', 'varchar(255)', 'NO', '', None, '')\n",
      "('chronic', 'varchar(255)', 'YES', '', None, '')\n"
     ]
    }
   ],
   "source": [
    "cursor= connection.cursor()\n",
    "cursor.execute(\"DESCRIBE patient\")\n",
    "\n",
    "results= cursor.fetchall()\n",
    "for row in results:\n",
    "    print(row)"
   ]
  },
  {
   "cell_type": "markdown",
   "id": "27344d72-cf9c-496f-bb70-42c0b648064f",
   "metadata": {},
   "source": [
    "# Insert Data into table"
   ]
  },
  {
   "cell_type": "code",
   "execution_count": 35,
   "id": "b6370284-a9c3-4469-ae96-761f0de3b452",
   "metadata": {},
   "outputs": [],
   "source": [
    "import pymysql\n",
    "connection = pymysql.connect(\n",
    "    host='localhost',\n",
    "    user='u6708142',\n",
    "    password='6708142',\n",
    "    database='u6708142_mydb'\n",
    ")"
   ]
  },
  {
   "cell_type": "code",
   "execution_count": 37,
   "id": "2639c876-a8e7-4f12-b6a7-0568113c073a",
   "metadata": {},
   "outputs": [
    {
     "data": {
      "text/plain": [
       "1"
      ]
     },
     "execution_count": 37,
     "metadata": {},
     "output_type": "execute_result"
    }
   ],
   "source": [
    "cursor= connection.cursor()\n",
    "cursor.execute('''\n",
    "INSERT INTO user (email,fullname,city) VALUES(%s, %s, %s)\n",
    "''', ('aung@rsu.ac.th', 'Aung', 'Bangkok'))\n",
    "connection.commit()\n",
    "cursor.rowcount"
   ]
  },
  {
   "cell_type": "code",
   "execution_count": 39,
   "id": "99930793-0ea9-450e-a489-32f17922318a",
   "metadata": {},
   "outputs": [
    {
     "data": {
      "text/plain": [
       "3"
      ]
     },
     "execution_count": 39,
     "metadata": {},
     "output_type": "execute_result"
    }
   ],
   "source": [
    "users= [\n",
    "    ('ana@me.com', 'Ana', 'Phuket'),\n",
    "    ('beer@me.com', 'Beer', 'Nonthaburi'),\n",
    "    ('min@me.com', 'Min', 'Pathumthani')\n",
    "]\n",
    "\n",
    "cursor.executemany('''\n",
    "INSERT INTO user (email, fullname, city) VALUES(%s, %s, %s)\n",
    "''', users)\n",
    "connection.commit()\n",
    "cursor.rowcount"
   ]
  },
  {
   "cell_type": "code",
   "execution_count": 42,
   "id": "fd543364-9762-42dd-b424-912add28cf85",
   "metadata": {},
   "outputs": [
    {
     "data": {
      "text/html": [
       "<div>\n",
       "<style scoped>\n",
       "    .dataframe tbody tr th:only-of-type {\n",
       "        vertical-align: middle;\n",
       "    }\n",
       "\n",
       "    .dataframe tbody tr th {\n",
       "        vertical-align: top;\n",
       "    }\n",
       "\n",
       "    .dataframe thead th {\n",
       "        text-align: right;\n",
       "    }\n",
       "</style>\n",
       "<table border=\"1\" class=\"dataframe\">\n",
       "  <thead>\n",
       "    <tr style=\"text-align: right;\">\n",
       "      <th></th>\n",
       "      <th>email</th>\n",
       "      <th>name</th>\n",
       "      <th>city</th>\n",
       "    </tr>\n",
       "  </thead>\n",
       "  <tbody>\n",
       "    <tr>\n",
       "      <th>0</th>\n",
       "      <td>alice@me.com</td>\n",
       "      <td>Alice</td>\n",
       "      <td>Bangkok</td>\n",
       "    </tr>\n",
       "    <tr>\n",
       "      <th>1</th>\n",
       "      <td>bob@me.com</td>\n",
       "      <td>Bob</td>\n",
       "      <td>Chiang Mai</td>\n",
       "    </tr>\n",
       "    <tr>\n",
       "      <th>2</th>\n",
       "      <td>charlie@me.com</td>\n",
       "      <td>Charlie</td>\n",
       "      <td>Ayutthaya</td>\n",
       "    </tr>\n",
       "    <tr>\n",
       "      <th>3</th>\n",
       "      <td>david@me.com</td>\n",
       "      <td>David</td>\n",
       "      <td>Pattaya</td>\n",
       "    </tr>\n",
       "    <tr>\n",
       "      <th>4</th>\n",
       "      <td>eve@me.com</td>\n",
       "      <td>Eve</td>\n",
       "      <td>Krabi</td>\n",
       "    </tr>\n",
       "    <tr>\n",
       "      <th>5</th>\n",
       "      <td>frank@me.com</td>\n",
       "      <td>Frank</td>\n",
       "      <td>Surat Thani</td>\n",
       "    </tr>\n",
       "    <tr>\n",
       "      <th>6</th>\n",
       "      <td>grace@me.com</td>\n",
       "      <td>Grace</td>\n",
       "      <td>Chonburi</td>\n",
       "    </tr>\n",
       "    <tr>\n",
       "      <th>7</th>\n",
       "      <td>hannah@me.com</td>\n",
       "      <td>Hannah</td>\n",
       "      <td>Rayong</td>\n",
       "    </tr>\n",
       "    <tr>\n",
       "      <th>8</th>\n",
       "      <td>ian@me.com</td>\n",
       "      <td>Ian</td>\n",
       "      <td>Samut Prakan</td>\n",
       "    </tr>\n",
       "    <tr>\n",
       "      <th>9</th>\n",
       "      <td>jane@me.com</td>\n",
       "      <td>Jane</td>\n",
       "      <td>Nakhon Pathom</td>\n",
       "    </tr>\n",
       "  </tbody>\n",
       "</table>\n",
       "</div>"
      ],
      "text/plain": [
       "            email     name           city\n",
       "0    alice@me.com    Alice        Bangkok\n",
       "1      bob@me.com      Bob     Chiang Mai\n",
       "2  charlie@me.com  Charlie      Ayutthaya\n",
       "3    david@me.com    David        Pattaya\n",
       "4      eve@me.com      Eve          Krabi\n",
       "5    frank@me.com    Frank    Surat Thani\n",
       "6    grace@me.com    Grace       Chonburi\n",
       "7   hannah@me.com   Hannah         Rayong\n",
       "8      ian@me.com      Ian   Samut Prakan\n",
       "9     jane@me.com     Jane  Nakhon Pathom"
      ]
     },
     "execution_count": 42,
     "metadata": {},
     "output_type": "execute_result"
    }
   ],
   "source": [
    "import pandas as pd\n",
    "df= pd.read_csv('user.csv')\n",
    "df"
   ]
  },
  {
   "cell_type": "code",
   "execution_count": 43,
   "id": "599186bf-9b07-4732-9d7d-0355a4ad020b",
   "metadata": {},
   "outputs": [
    {
     "data": {
      "text/plain": [
       "10"
      ]
     },
     "execution_count": 43,
     "metadata": {},
     "output_type": "execute_result"
    }
   ],
   "source": [
    "users= [tuple(row) for row in df.itertuples(index=False)]\n",
    "\n",
    "cursor.executemany('''\n",
    "INSERT INTO user (email, fullname, city) VALUES(%s, %s, %s)\n",
    "''',users)\n",
    "connection.commit()\n",
    "cursor.rowcount"
   ]
  },
  {
   "cell_type": "markdown",
   "id": "d8b8e02b-8f97-49cf-86cf-13d43e842bb6",
   "metadata": {},
   "source": [
    "__Activity 2__"
   ]
  },
  {
   "cell_type": "code",
   "execution_count": 57,
   "id": "6a2b189d-0cc0-4458-8440-9bb620e681ac",
   "metadata": {},
   "outputs": [
    {
     "name": "stderr",
     "output_type": "stream",
     "text": [
      "C:\\Users\\6708142\\AppData\\Local\\Temp\\ipykernel_13256\\1256843800.py:1: DtypeWarning: Columns (1,4,5) have mixed types. Specify dtype option on import or set low_memory=False.\n",
      "  df= pd.read_csv('chronic_2016_90_all.csv')\n"
     ]
    },
    {
     "data": {
      "text/html": [
       "<div>\n",
       "<style scoped>\n",
       "    .dataframe tbody tr th:only-of-type {\n",
       "        vertical-align: middle;\n",
       "    }\n",
       "\n",
       "    .dataframe tbody tr th {\n",
       "        vertical-align: top;\n",
       "    }\n",
       "\n",
       "    .dataframe thead th {\n",
       "        text-align: right;\n",
       "    }\n",
       "</style>\n",
       "<table border=\"1\" class=\"dataframe\">\n",
       "  <thead>\n",
       "    <tr style=\"text-align: right;\">\n",
       "      <th></th>\n",
       "      <th>HOSPCODE</th>\n",
       "      <th>PID</th>\n",
       "      <th>CHRONIC</th>\n",
       "    </tr>\n",
       "  </thead>\n",
       "  <tbody>\n",
       "    <tr>\n",
       "      <th>0</th>\n",
       "      <td>9435</td>\n",
       "      <td>10002</td>\n",
       "      <td>I10</td>\n",
       "    </tr>\n",
       "    <tr>\n",
       "      <th>1</th>\n",
       "      <td>9435</td>\n",
       "      <td>10007</td>\n",
       "      <td>I10</td>\n",
       "    </tr>\n",
       "    <tr>\n",
       "      <th>2</th>\n",
       "      <td>9435</td>\n",
       "      <td>10019</td>\n",
       "      <td>I10</td>\n",
       "    </tr>\n",
       "    <tr>\n",
       "      <th>3</th>\n",
       "      <td>9435</td>\n",
       "      <td>10031</td>\n",
       "      <td>E119</td>\n",
       "    </tr>\n",
       "    <tr>\n",
       "      <th>4</th>\n",
       "      <td>9435</td>\n",
       "      <td>10036</td>\n",
       "      <td>E119</td>\n",
       "    </tr>\n",
       "    <tr>\n",
       "      <th>...</th>\n",
       "      <td>...</td>\n",
       "      <td>...</td>\n",
       "      <td>...</td>\n",
       "    </tr>\n",
       "    <tr>\n",
       "      <th>642471</th>\n",
       "      <td>99782</td>\n",
       "      <td>996</td>\n",
       "      <td>J46</td>\n",
       "    </tr>\n",
       "    <tr>\n",
       "      <th>642472</th>\n",
       "      <td>99782</td>\n",
       "      <td>9964</td>\n",
       "      <td>I10</td>\n",
       "    </tr>\n",
       "    <tr>\n",
       "      <th>642473</th>\n",
       "      <td>99782</td>\n",
       "      <td>997</td>\n",
       "      <td>I10</td>\n",
       "    </tr>\n",
       "    <tr>\n",
       "      <th>642474</th>\n",
       "      <td>99782</td>\n",
       "      <td>9982</td>\n",
       "      <td>J46</td>\n",
       "    </tr>\n",
       "    <tr>\n",
       "      <th>642475</th>\n",
       "      <td>99782</td>\n",
       "      <td>9989</td>\n",
       "      <td>J46</td>\n",
       "    </tr>\n",
       "  </tbody>\n",
       "</table>\n",
       "<p>642476 rows × 3 columns</p>\n",
       "</div>"
      ],
      "text/plain": [
       "        HOSPCODE    PID CHRONIC\n",
       "0           9435  10002     I10\n",
       "1           9435  10007     I10\n",
       "2           9435  10019     I10\n",
       "3           9435  10031    E119\n",
       "4           9435  10036    E119\n",
       "...          ...    ...     ...\n",
       "642471     99782    996     J46\n",
       "642472     99782   9964     I10\n",
       "642473     99782    997     I10\n",
       "642474     99782   9982     J46\n",
       "642475     99782   9989     J46\n",
       "\n",
       "[642476 rows x 3 columns]"
      ]
     },
     "execution_count": 57,
     "metadata": {},
     "output_type": "execute_result"
    }
   ],
   "source": [
    "df= pd.read_csv('chronic_2016_90_all.csv')\n",
    "newdf= df[['HOSPCODE','PID', 'CHRONIC']]\n",
    "newdf"
   ]
  },
  {
   "cell_type": "code",
   "execution_count": 61,
   "id": "516f4052-a28d-476c-92af-25970ef324d9",
   "metadata": {},
   "outputs": [],
   "source": [
    "connection = pymysql.connect(\n",
    "    host='localhost',\n",
    "    user='u6708142',\n",
    "    password='6708142',\n",
    "    database='u6708142_mydb2'\n",
    ")"
   ]
  },
  {
   "cell_type": "code",
   "execution_count": 62,
   "id": "80a6d469-b8d2-429a-9439-d18b800044b8",
   "metadata": {},
   "outputs": [
    {
     "data": {
      "text/plain": [
       "642476"
      ]
     },
     "execution_count": 62,
     "metadata": {},
     "output_type": "execute_result"
    }
   ],
   "source": [
    "patients= [tuple(row) for row in newdf.itertuples(index=False)]\n",
    "\n",
    "cursor.executemany('''\n",
    "INSERT INTO patient (hospcode, pid, chronic) VALUES(%s, %s, %s)\n",
    "''',patients)\n",
    "connection.commit()\n",
    "cursor.rowcount"
   ]
  },
  {
   "cell_type": "code",
   "execution_count": null,
   "id": "23c5181f-28df-48f5-ba88-8e92033769e0",
   "metadata": {},
   "outputs": [],
   "source": []
  }
 ],
 "metadata": {
  "kernelspec": {
   "display_name": "Python 3 (ipykernel)",
   "language": "python",
   "name": "python3"
  },
  "language_info": {
   "codemirror_mode": {
    "name": "ipython",
    "version": 3
   },
   "file_extension": ".py",
   "mimetype": "text/x-python",
   "name": "python",
   "nbconvert_exporter": "python",
   "pygments_lexer": "ipython3",
   "version": "3.12.5"
  }
 },
 "nbformat": 4,
 "nbformat_minor": 5
}
